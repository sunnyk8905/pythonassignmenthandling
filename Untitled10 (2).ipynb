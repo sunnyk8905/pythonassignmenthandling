{
 "cells": [
  {
   "cell_type": "code",
   "execution_count": null,
   "id": "0763acc2-44b4-4f6b-97fa-d8db524bd907",
   "metadata": {},
   "outputs": [],
   "source": [
    "Q1. What is multithreading in python? Why is it used? Name the module used to handle threads in python"
   ]
  },
  {
   "cell_type": "code",
   "execution_count": null,
   "id": "617dde0d-6ba9-4d75-8d40-5b768c25c939",
   "metadata": {},
   "outputs": [],
   "source": [
    "Multithreading in Python refers to the ability of a program to execute multiple threads concurrently within a single process.\n",
    "Multithreading is used in Python for several reasons:\n",
    "    Parallel execution\n",
    "    Responsive user interfaces\n",
    "    Asynchronous I/O operations\n",
    "    Utilizing multiple CPU cores\n",
    "    Threading module used to handle threads in python.\n",
    "\n"
   ]
  },
  {
   "cell_type": "code",
   "execution_count": null,
   "id": "188fbc9c-176a-4229-9b37-40bb1afa91d3",
   "metadata": {},
   "outputs": [],
   "source": [
    "Q2) Why threading module used? Write the use of the following functions\n",
    "1. activeCount()\n",
    "2.currentThread()\n",
    "3. enumerate()"
   ]
  },
  {
   "cell_type": "code",
   "execution_count": null,
   "id": "7222f62e-36be-4ecd-b9f6-22cb16bebb97",
   "metadata": {},
   "outputs": [],
   "source": [
    "The threading module in Python is used to create and manage threads within a Python program. It provides a higher-level interface for working with threads compared to the lower-level thread module. The threading module allows you to create multiple threads, control their execution, and handle synchronization between threads."
   ]
  },
  {
   "cell_type": "code",
   "execution_count": null,
   "id": "5e0386e2-9cce-4165-966d-d810e84ff5c2",
   "metadata": {},
   "outputs": [],
   "source": [
    "activeCount(): The activeCount() function returns the number of Thread objects currently alive. "
   ]
  },
  {
   "cell_type": "code",
   "execution_count": null,
   "id": "e889a9b0-8642-46d3-a183-49b36cb54979",
   "metadata": {},
   "outputs": [],
   "source": [
    "currentThread(): The currentThread() function returns the currently executing Thread object. It returns an instance of the Thread class representing the thread in which it is called. "
   ]
  },
  {
   "cell_type": "code",
   "execution_count": null,
   "id": "92923cd5-7d63-4cc9-8d92-1d95919b42de",
   "metadata": {},
   "outputs": [],
   "source": [
    "enumerate(): The enumerate() function returns a list of all Thread objects currently alive. It provides a way to get a list of all the active threads in the program, including the main thread. Each thread is represented as an instance of the Thread class."
   ]
  },
  {
   "cell_type": "code",
   "execution_count": null,
   "id": "72e738de-21e5-45db-8694-603acd537135",
   "metadata": {},
   "outputs": [],
   "source": [
    "Q3). Explain the following functions\n",
    "1. run()\n",
    "2. start()\n",
    "3. join()\n",
    "4. isAlive()"
   ]
  },
  {
   "cell_type": "code",
   "execution_count": null,
   "id": "fdc75b50-c360-4cf9-bad1-f86b3a039623",
   "metadata": {},
   "outputs": [],
   "source": [
    "run(): The run() method is the entry point for the thread's activity. It is typically overridden in a subclass of the Thread class to define the specific behavior that the thread should execute. "
   ]
  },
  {
   "cell_type": "code",
   "execution_count": null,
   "id": "8da43e79-ef65-4321-bb27-00c64f0a5dd9",
   "metadata": {},
   "outputs": [],
   "source": [
    "start(): The start() method is used to start the execution of a thread. It creates a new thread of execution and calls the run() method in that new thread. "
   ]
  },
  {
   "cell_type": "code",
   "execution_count": null,
   "id": "b333c890-3376-4f16-95de-9104cf6ebe3d",
   "metadata": {},
   "outputs": [],
   "source": [
    "join(): The join() method is used to wait for a thread to complete its execution. When a thread calls the join() method on another thread, it blocks and waits until that thread completes before proceeding further. "
   ]
  },
  {
   "cell_type": "code",
   "execution_count": null,
   "id": "ca5663a9-0deb-49b9-a713-0bf8ee071b5f",
   "metadata": {},
   "outputs": [],
   "source": [
    "isAlive(): The isAlive() method is used to check whether a thread is currently executing or alive. It returns True if the thread is still running or has not yet completed, and False otherwise."
   ]
  },
  {
   "cell_type": "code",
   "execution_count": null,
   "id": "a57ea3ae-e61c-4958-ab07-2a01bf59ed47",
   "metadata": {},
   "outputs": [],
   "source": [
    "Q4). Write a python program to create two threads. Thread one must print the list of squares and thread\n",
    "two must print the list of cubes."
   ]
  },
  {
   "cell_type": "code",
   "execution_count": null,
   "id": "2966a7e1-ac70-4127-9d9a-cb5e28c14134",
   "metadata": {},
   "outputs": [],
   "source": [
    "import threading\n",
    "\n",
    "def print_squares():\n",
    "    squares = [x ** 2 for x in range(1, 11)]\n",
    "    for square in squares:\n",
    "        print(\"Square:\", square)\n",
    "\n",
    "def print_cubes():\n",
    "    cubes = [x ** 3 for x in range(1, 11)]\n",
    "    for cube in cubes:\n",
    "        print(\"Cube:\", cube)\n",
    "\n",
    "\n",
    "thread1 = threading.Thread(target=print_squares)\n",
    "thread2 = threading.Thread(target=print_cubes)\n",
    "\n",
    "\n",
    "thread1.start()\n",
    "thread2.start()\n",
    "\n",
    "\n",
    "thread1.join()\n",
    "thread2.join()\n",
    "\n",
    "print(\"Program execution completed.\")\n"
   ]
  },
  {
   "cell_type": "code",
   "execution_count": null,
   "id": "a2a78936-11cb-4f69-ace5-9d78a89e9386",
   "metadata": {},
   "outputs": [],
   "source": [
    "Q5). State advantages and disadvantages of multithreading."
   ]
  },
  {
   "cell_type": "code",
   "execution_count": null,
   "id": "548a154e-9d29-4495-a920-bfc48440781e",
   "metadata": {},
   "outputs": [],
   "source": [
    "Advantages of Multithreading:\n",
    "\n",
    "Increased responsiveness and better user experience: Multithreading allows you to keep the user interface responsive even when performing time-consuming tasks in the background. By offloading such tasks to separate threads, the main thread can remain free to respond to user input, resulting in a smoother and more interactive user experience."
   ]
  },
  {
   "cell_type": "code",
   "execution_count": null,
   "id": "f4ea084b-b2bf-44cb-9e45-bbb345804123",
   "metadata": {},
   "outputs": [],
   "source": [
    "Disadvantages of Multithreading:\n",
    "\n",
    "Increased complexity and potential for errors: Multithreading introduces additional complexity to your code. Synchronization and coordination between threads can be challenging, and race conditions or deadlocks may occur if not handled properly. Debugging multithreaded code can be more difficult due to non-deterministic behavior caused by thread interleaving."
   ]
  },
  {
   "cell_type": "code",
   "execution_count": null,
   "id": "63badf98-530a-4a7f-ab45-842b5d393d99",
   "metadata": {},
   "outputs": [],
   "source": [
    "Q6). Explain deadlocks and race conditions."
   ]
  },
  {
   "cell_type": "code",
   "execution_count": null,
   "id": "bfad9950-0929-43f5-842e-e5fa957879c0",
   "metadata": {},
   "outputs": [],
   "source": [
    "Deadlocks:\n",
    "A deadlock is a situation where two or more threads or processes are unable to proceed because each is waiting for a resource that is held by another thread or process in the same group."
   ]
  },
  {
   "cell_type": "code",
   "execution_count": null,
   "id": "096b1882-0c46-4e6d-a34b-96b5a88de3b5",
   "metadata": {},
   "outputs": [],
   "source": [
    "Race Conditions:\n",
    "A race condition occurs when the behavior of a program depends on the interleaving or timing of operations performed by multiple threads or processes. It arises when multiple threads or processes access and manipulate shared data concurrently without proper synchronization, leading to unexpected and erroneous results."
   ]
  }
 ],
 "metadata": {
  "kernelspec": {
   "display_name": "Python 3 (ipykernel)",
   "language": "python",
   "name": "python3"
  },
  "language_info": {
   "codemirror_mode": {
    "name": "ipython",
    "version": 3
   },
   "file_extension": ".py",
   "mimetype": "text/x-python",
   "name": "python",
   "nbconvert_exporter": "python",
   "pygments_lexer": "ipython3",
   "version": "3.10.8"
  }
 },
 "nbformat": 4,
 "nbformat_minor": 5
}
